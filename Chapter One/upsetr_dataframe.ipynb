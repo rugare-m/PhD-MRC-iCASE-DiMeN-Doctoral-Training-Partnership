{
 "cells": [
  {
   "cell_type": "code",
   "execution_count": 1,
   "metadata": {},
   "outputs": [],
   "source": [
    "from pickle import load\n",
    "import pandas as pd\n",
    "from pysam import VariantFile\n",
    "import numpy as np\n"
   ]
  },
  {
   "cell_type": "code",
   "execution_count": 2,
   "metadata": {},
   "outputs": [
    {
     "name": "stderr",
     "output_type": "stream",
     "text": [
      "[W::bcf_hdr_check_sanity] GL should be declared as Number=G\n"
     ]
    }
   ],
   "source": [
    "#load all the vcfs\n",
    "\n",
    "platypus18 = VariantFile(\"/Users/rugaremaruzani/Library/CloudStorage/OneDrive-TheUniversityofLiverpool/VCFs/filtered_SRR3401418platy.vcf.gz\")\n",
    "platypus17 = VariantFile(\"/Users/rugaremaruzani/Library/CloudStorage/OneDrive-TheUniversityofLiverpool/VCFs/filtered_SRR3401417platy.vcf.gz\")\n",
    "platypus08 = VariantFile(\"/Users/rugaremaruzani/Library/CloudStorage/OneDrive-TheUniversityofLiverpool/VCFs/filtered_SRR3401408platy.vcf.gz\")\n",
    "platypus07 = VariantFile(\"/Users/rugaremaruzani/Library/CloudStorage/OneDrive-TheUniversityofLiverpool/VCFs/filtered_SRR3401407platy.vcf.gz\")\n",
    "#rerun 16 and 16 - they are corrupted\n",
    "#platypus16 = VariantFile(\"/Users/rugaremaruzani/Library/CloudStorage/OneDrive-TheUniversityofLiverpool/VCFs/filtered_SRR3401415platy.vcf.gz\")\n",
    "#platypus15 = VariantFile(\"/Users/rugaremaruzani/Library/CloudStorage/OneDrive-TheUniversityofLiverpool/VCFs/filtered_SRR3401416platy.vcf.gz\")\n",
    "\n",
    "#octopus\n",
    "octopus18 = VariantFile(\"/Users/rugaremaruzani/Library/CloudStorage/OneDrive-TheUniversityofLiverpool/VCFs/filtered_SRR3401418oct.vcf.gz\")\n",
    "octopus17 = VariantFile(\"/Users/rugaremaruzani/Library/CloudStorage/OneDrive-TheUniversityofLiverpool/VCFs/filtered_SRR3401417oct.vcf.gz\")\n",
    "octopus16 = VariantFile(\"/Users/rugaremaruzani/Library/CloudStorage/OneDrive-TheUniversityofLiverpool/VCFs/filtered_SRR3401416oct.vcf.gz\")\n",
    "octopus15 = VariantFile(\"/Users/rugaremaruzani/Library/CloudStorage/OneDrive-TheUniversityofLiverpool/VCFs/filtered_SRR3401415oct.vcf.gz\")\n",
    "octopus08 = VariantFile(\"/Users/rugaremaruzani/Library/CloudStorage/OneDrive-TheUniversityofLiverpool/VCFs/filtered_SRR3401408oct.vcf.gz\")\n",
    "octopus07 = VariantFile(\"/Users/rugaremaruzani/Library/CloudStorage/OneDrive-TheUniversityofLiverpool/VCFs/filtered_SRR3401407oct.vcf.gz\")\n",
    "\n",
    "#mutect2\n",
    "mutect18 = VariantFile(\"/Users/rugaremaruzani/Library/CloudStorage/OneDrive-TheUniversityofLiverpool/VCFs/filtered_SRR3401418mut2.vcf.gz\")\n",
    "mutect17 = VariantFile(\"/Users/rugaremaruzani/Library/CloudStorage/OneDrive-TheUniversityofLiverpool/VCFs/filtered_SRR3401417mut2.vcf.gz\")\n",
    "mutect16 = VariantFile(\"/Users/rugaremaruzani/Library/CloudStorage/OneDrive-TheUniversityofLiverpool/VCFs/filtered_SRR3401416mut2.vcf.gz\")\n",
    "mutect15 = VariantFile(\"/Users/rugaremaruzani/Library/CloudStorage/OneDrive-TheUniversityofLiverpool/VCFs/filtered_SRR3401415mut2.vcf.gz\")\n",
    "mutect08 = VariantFile(\"/Users/rugaremaruzani/Library/CloudStorage/OneDrive-TheUniversityofLiverpool/VCFs/filtered_SRR3401408mut2.vcf.gz\")\n",
    "mutect07 = VariantFile(\"/Users/rugaremaruzani/Library/CloudStorage/OneDrive-TheUniversityofLiverpool/VCFs/filtered_SRR3401407mut2.vcf.gz\")\n",
    "\n",
    "\n",
    "#lofreq\n",
    "lofreq18 = VariantFile(\"/Users/rugaremaruzani/Library/CloudStorage/OneDrive-TheUniversityofLiverpool/VCFs/filtered_SRR3401418lofreq.vcf.gz\")\n",
    "lofreq17 = VariantFile(\"/Users/rugaremaruzani/Library/CloudStorage/OneDrive-TheUniversityofLiverpool/VCFs/filtered_SRR3401417lofreq.vcf.gz\")\n",
    "lofreq16 = VariantFile(\"/Users/rugaremaruzani/Library/CloudStorage/OneDrive-TheUniversityofLiverpool/VCFs/filtered_SRR3401416lofreq.vcf.gz\")\n",
    "lofreq15 = VariantFile(\"/Users/rugaremaruzani/Library/CloudStorage/OneDrive-TheUniversityofLiverpool/VCFs/filtered_SRR3401415lofreq.vcf.gz\")\n",
    "lofreq08 = VariantFile(\"/Users/rugaremaruzani/Library/CloudStorage/OneDrive-TheUniversityofLiverpool/VCFs/filtered_SRR3401408lofreq.vcf.gz\")\n",
    "lofreq07 = VariantFile(\"/Users/rugaremaruzani/Library/CloudStorage/OneDrive-TheUniversityofLiverpool/VCFs/filtered_SRR3401407lofreq.vcf.gz\")\n",
    "\n",
    "\n",
    "#freebayes\n",
    "freebayes18 = VariantFile(\"/Users/rugaremaruzani/Library/CloudStorage/OneDrive-TheUniversityofLiverpool/VCFs/filtered_SRR3401418fbayes.vcf.gz\")\n",
    "freebayes17 = VariantFile(\"/Users/rugaremaruzani/Library/CloudStorage/OneDrive-TheUniversityofLiverpool/VCFs/filtered_SRR3401417fbayes.vcf.gz\")\n",
    "freebayes16 = VariantFile(\"/Users/rugaremaruzani/Library/CloudStorage/OneDrive-TheUniversityofLiverpool/VCFs/filtered_SRR3401416fbayes.vcf.gz\")\n",
    "freebayes15 = VariantFile(\"/Users/rugaremaruzani/Library/CloudStorage/OneDrive-TheUniversityofLiverpool/VCFs/filtered_SRR3401415fbayes.vcf.gz\")\n",
    "freebayes08 = VariantFile(\"/Users/rugaremaruzani/Library/CloudStorage/OneDrive-TheUniversityofLiverpool/VCFs/filtered_SRR3401408fbayes.vcf.gz\")\n",
    "freebayes07 = VariantFile(\"/Users/rugaremaruzani/Library/CloudStorage/OneDrive-TheUniversityofLiverpool/VCFs/filtered_SRR3401407fbayes.vcf.gz\")\n",
    "\n",
    "#bcftools\n",
    "bcftools18 = VariantFile(\"/Users/rugaremaruzani/Library/CloudStorage/OneDrive-TheUniversityofLiverpool/VCFs/filtered_SRR3401418bcf.vcf.gz\")\n",
    "bcftools17 = VariantFile(\"/Users/rugaremaruzani/Library/CloudStorage/OneDrive-TheUniversityofLiverpool/VCFs/filtered_SRR3401417bcf.vcf.gz\")\n",
    "bcftools16 = VariantFile(\"/Users/rugaremaruzani/Library/CloudStorage/OneDrive-TheUniversityofLiverpool/VCFs/filtered_SRR3401416bcf.vcf.gz\")\n",
    "bcftools15 = VariantFile(\"/Users/rugaremaruzani/Library/CloudStorage/OneDrive-TheUniversityofLiverpool/VCFs/filtered_SRR3401415bcf.vcf.gz\")\n",
    "bcftools08 = VariantFile(\"/Users/rugaremaruzani/Library/CloudStorage/OneDrive-TheUniversityofLiverpool/VCFs/filtered_SRR3401408bcf.vcf.gz\")\n",
    "bcftools07 = VariantFile(\"/Users/rugaremaruzani/Library/CloudStorage/OneDrive-TheUniversityofLiverpool/VCFs/filtered_SRR3401407bcf.vcf.gz\")\n"
   ]
  },
  {
   "cell_type": "code",
   "execution_count": null,
   "metadata": {},
   "outputs": [],
   "source": [
    "#take a quicklook at the variants, with only relevant vcf fields \n",
    "for rec in platypus18.fetch():\n",
    "    print (rec.contig, rec.pos, rec.ref, rec.alts[0])"
   ]
  },
  {
   "cell_type": "code",
   "execution_count": 4,
   "metadata": {},
   "outputs": [
    {
     "name": "stderr",
     "output_type": "stream",
     "text": [
      "[W::vcf_parse_filter] FILTER '' is not defined in the header\n"
     ]
    }
   ],
   "source": [
    "#append ALL possible variants to the list 'variant'\n",
    "vcfs = [platypus18, platypus17,                         platypus08, platypus07, \n",
    "        bcftools18, bcftools17, bcftools16, bcftools15, bcftools08, bcftools07, \n",
    "        freebayes18,freebayes17,freebayes16,freebayes15,freebayes08,freebayes07, \n",
    "        lofreq18,   lofreq17,   lofreq16,   lofreq15,   lofreq08,   lofreq07,\n",
    "        mutect18,   mutect17,   mutect16,   mutect15,   mutect08,   mutect07, \n",
    "        octopus18,  octopus17,  octopus16,  octopus15,  octopus08,  octopus07]\n",
    "\n",
    "variant = []\n",
    "\n",
    "for caller in vcfs:\n",
    "    for rec in caller.fetch():\n",
    "        variant.append(rec.contig)\n",
    "        variant.append(str(rec.pos))\n",
    "        variant.append(rec.ref)\n",
    "        variant.append(rec.alts[0]) \n"
   ]
  },
  {
   "cell_type": "code",
   "execution_count": 5,
   "metadata": {},
   "outputs": [
    {
     "name": "stdout",
     "output_type": "stream",
     "text": [
      "544600\n"
     ]
    }
   ],
   "source": [
    "print (len(variant))"
   ]
  },
  {
   "cell_type": "code",
   "execution_count": 6,
   "metadata": {},
   "outputs": [],
   "source": [
    "#join the chr,position, ref, alt into a string to be used a the identifier\n",
    "var_ids = [''.join(variant[i:i+4]) for i in range(0, len(variant), 4)]"
   ]
  },
  {
   "cell_type": "code",
   "execution_count": 7,
   "metadata": {},
   "outputs": [
    {
     "name": "stdout",
     "output_type": "stream",
     "text": [
      "136150\n"
     ]
    }
   ],
   "source": [
    "print (len(var_ids))"
   ]
  },
  {
   "cell_type": "code",
   "execution_count": 8,
   "metadata": {},
   "outputs": [],
   "source": [
    "dataframe = pd.DataFrame(data=var_ids)"
   ]
  },
  {
   "cell_type": "code",
   "execution_count": 9,
   "metadata": {},
   "outputs": [],
   "source": [
    "#rename column\n",
    "dataframe.columns = [\"variant\"]"
   ]
  },
  {
   "cell_type": "code",
   "execution_count": null,
   "metadata": {},
   "outputs": [],
   "source": [
    "dataframe"
   ]
  },
  {
   "cell_type": "code",
   "execution_count": 11,
   "metadata": {},
   "outputs": [],
   "source": [
    "dataframe['bcftools'] = np.nan\n",
    "dataframe['freebayes'] = np.nan\n",
    "dataframe['mutect2'] = np.nan\n",
    "dataframe['lofreq'] = np.nan\n",
    "dataframe['octopus'] = np.nan\n",
    "dataframe['platypus'] = np.nan"
   ]
  },
  {
   "cell_type": "code",
   "execution_count": 12,
   "metadata": {},
   "outputs": [],
   "source": [
    "#now get variant caller specific variants and store in var_ids variable.....\n",
    "bcf_variants = []\n",
    "\n",
    "bcf = [bcftools18, bcftools17, bcftools16, bcftools15, bcftools08, bcftools07]\n",
    "\n",
    "for caller in bcf:\n",
    "    for rec in caller.fetch():\n",
    "        bcf_variants.append(rec.contig)\n",
    "        bcf_variants.append(str(rec.pos))\n",
    "        bcf_variants.append(rec.ref)\n",
    "        bcf_variants.append(rec.alts[0])  \n",
    "\n",
    "bcf_var_ids = [''.join(bcf_variants[i:i+4]) for i in range(0, len(bcf_variants), 4)]\n"
   ]
  },
  {
   "cell_type": "code",
   "execution_count": 13,
   "metadata": {},
   "outputs": [],
   "source": [
    "fbayes_variants = []\n",
    "\n",
    "fbayes = [freebayes18, freebayes17, freebayes16, freebayes15, freebayes08, freebayes07]\n",
    "\n",
    "for sample in fbayes:\n",
    "    for rec in sample.fetch():\n",
    "        fbayes_variants.append(rec.contig)\n",
    "        fbayes_variants.append(str(rec.pos))\n",
    "        fbayes_variants.append(rec.ref)\n",
    "        fbayes_variants.append(rec.alts[0])  \n",
    "\n",
    "fbayes_var_ids = [''.join(fbayes_variants[i:i+4]) for i in range(0, len(fbayes_variants), 4)]"
   ]
  },
  {
   "cell_type": "code",
   "execution_count": 14,
   "metadata": {},
   "outputs": [],
   "source": [
    "mut2_variants = []\n",
    "\n",
    "mutect2 = [mutect18, mutect17, mutect16, mutect15, mutect08, mutect07]\n",
    "\n",
    "for sample in mutect2:\n",
    "    for rec in sample.fetch():\n",
    "        mut2_variants.append(rec.contig)\n",
    "        mut2_variants.append(str(rec.pos))\n",
    "        mut2_variants.append(rec.ref)\n",
    "        mut2_variants.append(rec.alts[0])  \n",
    "\n",
    "mut2_var_ids = [''.join(mut2_variants[i:i+4]) for i in range(0, len(mut2_variants), 4)]"
   ]
  },
  {
   "cell_type": "code",
   "execution_count": 15,
   "metadata": {},
   "outputs": [],
   "source": [
    "lofreq_variants = []\n",
    "\n",
    "lofeq = [lofreq18, lofreq17, lofreq16, lofreq15, lofreq08, lofreq07]\n",
    "\n",
    "for sample in lofeq:\n",
    "    for rec in sample.fetch():\n",
    "        lofreq_variants.append(rec.contig)  \n",
    "        lofreq_variants.append(str(rec.pos))\n",
    "        lofreq_variants.append(rec.ref)\n",
    "        lofreq_variants.append(rec.alts[0])\n",
    "\n",
    "\n",
    "lofreq_var_ids = [''.join(lofreq_variants[i:i+4]) for i in range(0, len(lofreq_variants), 4)]"
   ]
  },
  {
   "cell_type": "code",
   "execution_count": 16,
   "metadata": {},
   "outputs": [],
   "source": [
    "oct_variants = []\n",
    "\n",
    "octupus = [octopus18, octopus17, octopus16, octopus15, octopus08, octopus07]\n",
    "\n",
    "for sample in octupus:\n",
    "    for rec in sample.fetch():\n",
    "        oct_variants.append(rec.contig)\n",
    "        oct_variants.append(str(rec.pos))\n",
    "        oct_variants.append(rec.ref)\n",
    "        oct_variants.append(rec.alts[0])  \n",
    "        \n",
    "oct_var_ids = [''.join(oct_variants[i:i+4]) for i in range(0, len(oct_variants), 4)]"
   ]
  },
  {
   "cell_type": "code",
   "execution_count": 18,
   "metadata": {},
   "outputs": [],
   "source": [
    "platypus_variants = []\n",
    "\n",
    "platypus = [platypus18, platypus17,platypus08, platypus07]\n",
    "\n",
    "for sample in platypus:\n",
    "    for rec in sample.fetch():\n",
    "        platypus_variants.append(rec.contig)\n",
    "        platypus_variants.append(str(rec.pos))\n",
    "        platypus_variants.append(rec.ref)\n",
    "        platypus_variants.append(rec.alts[0])  \n",
    "        \n",
    "        \n",
    "\n",
    "platypus_var_ids = [''.join(platypus_variants[i:i+4]) for i in range(0, len(platypus_variants), 4)]"
   ]
  },
  {
   "cell_type": "code",
   "execution_count": 19,
   "metadata": {},
   "outputs": [],
   "source": [
    "import intersect\n",
    "from intersect import intersection"
   ]
  },
  {
   "cell_type": "code",
   "execution_count": null,
   "metadata": {},
   "outputs": [],
   "source": []
  },
  {
   "cell_type": "code",
   "execution_count": 20,
   "metadata": {},
   "outputs": [],
   "source": [
    "#manually get the intersects across the calls - then add the S1-5 with the if block code - if S1 in row in dataframe.iterrows(), add 1 to bcftools and freebayes at that location\n",
    "#bcftools\n",
    "s1 = set(bcf_var_ids).intersection(set(fbayes_var_ids))\n",
    "s2 = set(bcf_var_ids).intersection(set(fbayes_var_ids), set (platypus_var_ids))\n",
    "s3 = set(bcf_var_ids).intersection(set(fbayes_var_ids), set (platypus_var_ids), set (mut2_var_ids))\n",
    "s4 = set(bcf_var_ids).intersection(set(fbayes_var_ids), set (platypus_var_ids), set (mut2_var_ids), set (oct_var_ids))\n",
    "s5 = set(bcf_var_ids).intersection(set(fbayes_var_ids), set (platypus_var_ids), set (mut2_var_ids), set (oct_var_ids), set (lofreq_var_ids))"
   ]
  },
  {
   "cell_type": "code",
   "execution_count": 21,
   "metadata": {},
   "outputs": [
    {
     "ename": "KeyboardInterrupt",
     "evalue": "",
     "output_type": "error",
     "traceback": [
      "\u001b[0;31m---------------------------------------------------------------------------\u001b[0m",
      "\u001b[0;31mKeyboardInterrupt\u001b[0m                         Traceback (most recent call last)",
      "\u001b[1;32m/Users/rugaremaruzani/Library/CloudStorage/OneDrive-TheUniversityofLiverpool/GitHub/PhD-MRC-iCASE-DiMeN-Doctoral-Training-Partnership/Chapter One/upsetr_dataframe.ipynb Cell 21\u001b[0m in \u001b[0;36m<cell line: 2>\u001b[0;34m()\u001b[0m\n\u001b[1;32m     <a href='vscode-notebook-cell:/Users/rugaremaruzani/Library/CloudStorage/OneDrive-TheUniversityofLiverpool/GitHub/PhD-MRC-iCASE-DiMeN-Doctoral-Training-Partnership/Chapter%20One/upsetr_dataframe.ipynb#X31sZmlsZQ%3D%3D?line=26'>27</a>\u001b[0m dataframe\u001b[39m.\u001b[39mat[dataframe[dataframe[\u001b[39m'\u001b[39m\u001b[39mvariant\u001b[39m\u001b[39m'\u001b[39m] \u001b[39m==\u001b[39m row[\u001b[39m\"\u001b[39m\u001b[39mvariant\u001b[39m\u001b[39m\"\u001b[39m]]\u001b[39m.\u001b[39mindex[\u001b[39m0\u001b[39m], \u001b[39m\"\u001b[39m\u001b[39mmutect2\u001b[39m\u001b[39m\"\u001b[39m] \u001b[39m=\u001b[39m \u001b[39m1\u001b[39m\n\u001b[1;32m     <a href='vscode-notebook-cell:/Users/rugaremaruzani/Library/CloudStorage/OneDrive-TheUniversityofLiverpool/GitHub/PhD-MRC-iCASE-DiMeN-Doctoral-Training-Partnership/Chapter%20One/upsetr_dataframe.ipynb#X31sZmlsZQ%3D%3D?line=27'>28</a>\u001b[0m dataframe\u001b[39m.\u001b[39mat[dataframe[dataframe[\u001b[39m'\u001b[39m\u001b[39mvariant\u001b[39m\u001b[39m'\u001b[39m] \u001b[39m==\u001b[39m row[\u001b[39m\"\u001b[39m\u001b[39mvariant\u001b[39m\u001b[39m\"\u001b[39m]]\u001b[39m.\u001b[39mindex[\u001b[39m0\u001b[39m], \u001b[39m\"\u001b[39m\u001b[39moctopus\u001b[39m\u001b[39m\"\u001b[39m] \u001b[39m=\u001b[39m \u001b[39m1\u001b[39m\n\u001b[0;32m---> <a href='vscode-notebook-cell:/Users/rugaremaruzani/Library/CloudStorage/OneDrive-TheUniversityofLiverpool/GitHub/PhD-MRC-iCASE-DiMeN-Doctoral-Training-Partnership/Chapter%20One/upsetr_dataframe.ipynb#X31sZmlsZQ%3D%3D?line=28'>29</a>\u001b[0m dataframe\u001b[39m.\u001b[39mat[dataframe[dataframe[\u001b[39m'\u001b[39;49m\u001b[39mvariant\u001b[39;49m\u001b[39m'\u001b[39;49m] \u001b[39m==\u001b[39;49m row[\u001b[39m\"\u001b[39;49m\u001b[39mvariant\u001b[39;49m\u001b[39m\"\u001b[39;49m]]\u001b[39m.\u001b[39mindex[\u001b[39m0\u001b[39m], \u001b[39m\"\u001b[39m\u001b[39mlofreq\u001b[39m\u001b[39m\"\u001b[39m] \u001b[39m=\u001b[39m \u001b[39m1\u001b[39m\n",
      "File \u001b[0;32m~/miniconda3/lib/python3.9/site-packages/pandas/core/ops/common.py:72\u001b[0m, in \u001b[0;36m_unpack_zerodim_and_defer.<locals>.new_method\u001b[0;34m(self, other)\u001b[0m\n\u001b[1;32m     68\u001b[0m             \u001b[39mreturn\u001b[39;00m \u001b[39mNotImplemented\u001b[39m\n\u001b[1;32m     70\u001b[0m other \u001b[39m=\u001b[39m item_from_zerodim(other)\n\u001b[0;32m---> 72\u001b[0m \u001b[39mreturn\u001b[39;00m method(\u001b[39mself\u001b[39;49m, other)\n",
      "File \u001b[0;32m~/miniconda3/lib/python3.9/site-packages/pandas/core/arraylike.py:42\u001b[0m, in \u001b[0;36mOpsMixin.__eq__\u001b[0;34m(self, other)\u001b[0m\n\u001b[1;32m     40\u001b[0m \u001b[39m@unpack_zerodim_and_defer\u001b[39m(\u001b[39m\"\u001b[39m\u001b[39m__eq__\u001b[39m\u001b[39m\"\u001b[39m)\n\u001b[1;32m     41\u001b[0m \u001b[39mdef\u001b[39;00m \u001b[39m__eq__\u001b[39m(\u001b[39mself\u001b[39m, other):\n\u001b[0;32m---> 42\u001b[0m     \u001b[39mreturn\u001b[39;00m \u001b[39mself\u001b[39;49m\u001b[39m.\u001b[39;49m_cmp_method(other, operator\u001b[39m.\u001b[39;49meq)\n",
      "File \u001b[0;32m~/miniconda3/lib/python3.9/site-packages/pandas/core/series.py:6243\u001b[0m, in \u001b[0;36mSeries._cmp_method\u001b[0;34m(self, other, op)\u001b[0m\n\u001b[1;32m   6240\u001b[0m rvalues \u001b[39m=\u001b[39m extract_array(other, extract_numpy\u001b[39m=\u001b[39m\u001b[39mTrue\u001b[39;00m, extract_range\u001b[39m=\u001b[39m\u001b[39mTrue\u001b[39;00m)\n\u001b[1;32m   6242\u001b[0m \u001b[39mwith\u001b[39;00m np\u001b[39m.\u001b[39merrstate(\u001b[39mall\u001b[39m\u001b[39m=\u001b[39m\u001b[39m\"\u001b[39m\u001b[39mignore\u001b[39m\u001b[39m\"\u001b[39m):\n\u001b[0;32m-> 6243\u001b[0m     res_values \u001b[39m=\u001b[39m ops\u001b[39m.\u001b[39;49mcomparison_op(lvalues, rvalues, op)\n\u001b[1;32m   6245\u001b[0m \u001b[39mreturn\u001b[39;00m \u001b[39mself\u001b[39m\u001b[39m.\u001b[39m_construct_result(res_values, name\u001b[39m=\u001b[39mres_name)\n",
      "File \u001b[0;32m~/miniconda3/lib/python3.9/site-packages/pandas/core/ops/array_ops.py:287\u001b[0m, in \u001b[0;36mcomparison_op\u001b[0;34m(left, right, op)\u001b[0m\n\u001b[1;32m    284\u001b[0m     \u001b[39mreturn\u001b[39;00m invalid_comparison(lvalues, rvalues, op)\n\u001b[1;32m    286\u001b[0m \u001b[39melif\u001b[39;00m is_object_dtype(lvalues\u001b[39m.\u001b[39mdtype) \u001b[39mor\u001b[39;00m \u001b[39misinstance\u001b[39m(rvalues, \u001b[39mstr\u001b[39m):\n\u001b[0;32m--> 287\u001b[0m     res_values \u001b[39m=\u001b[39m comp_method_OBJECT_ARRAY(op, lvalues, rvalues)\n\u001b[1;32m    289\u001b[0m \u001b[39melse\u001b[39;00m:\n\u001b[1;32m    290\u001b[0m     res_values \u001b[39m=\u001b[39m _na_arithmetic_op(lvalues, rvalues, op, is_cmp\u001b[39m=\u001b[39m\u001b[39mTrue\u001b[39;00m)\n",
      "File \u001b[0;32m~/miniconda3/lib/python3.9/site-packages/pandas/core/ops/array_ops.py:75\u001b[0m, in \u001b[0;36mcomp_method_OBJECT_ARRAY\u001b[0;34m(op, x, y)\u001b[0m\n\u001b[1;32m     73\u001b[0m     result \u001b[39m=\u001b[39m libops\u001b[39m.\u001b[39mvec_compare(x\u001b[39m.\u001b[39mravel(), y\u001b[39m.\u001b[39mravel(), op)\n\u001b[1;32m     74\u001b[0m \u001b[39melse\u001b[39;00m:\n\u001b[0;32m---> 75\u001b[0m     result \u001b[39m=\u001b[39m libops\u001b[39m.\u001b[39;49mscalar_compare(x\u001b[39m.\u001b[39;49mravel(), y, op)\n\u001b[1;32m     76\u001b[0m \u001b[39mreturn\u001b[39;00m result\u001b[39m.\u001b[39mreshape(x\u001b[39m.\u001b[39mshape)\n",
      "\u001b[0;31mKeyboardInterrupt\u001b[0m: "
     ]
    }
   ],
   "source": [
    "#bcftools\n",
    "for index, row in dataframe.iterrows(): \n",
    "    if row[\"variant\"] in bcf_var_ids:\n",
    "        dataframe.at[dataframe[dataframe['variant'] == row[\"variant\"]].index[0], \"bcftools\"] = 1\n",
    "    if row[\"variant\"] in s1:\n",
    "        dataframe.at[dataframe[dataframe['variant'] == row[\"variant\"]].index[0], \"bcftools\"] = 1\n",
    "        dataframe.at[dataframe[dataframe['variant'] == row[\"variant\"]].index[0], \"freebayes\"] = 1\n",
    "    if row[\"variant\"] in s2:\n",
    "        dataframe.at[dataframe[dataframe['variant'] == row[\"variant\"]].index[0], \"bcftools\"] = 1\n",
    "        dataframe.at[dataframe[dataframe['variant'] == row[\"variant\"]].index[0], \"freebayes\"] = 1\n",
    "        dataframe.at[dataframe[dataframe['variant'] == row[\"variant\"]].index[0], \"platypus\"] = 1\n",
    "    if row[\"variant\"] in s3:\n",
    "        dataframe.at[dataframe[dataframe['variant'] == row[\"variant\"]].index[0], \"bcftools\"] = 1\n",
    "        dataframe.at[dataframe[dataframe['variant'] == row[\"variant\"]].index[0], \"freebayes\"] = 1\n",
    "        dataframe.at[dataframe[dataframe['variant'] == row[\"variant\"]].index[0], \"platypus\"] = 1\n",
    "        dataframe.at[dataframe[dataframe['variant'] == row[\"variant\"]].index[0], \"mutect2\"] = 1\n",
    "    if row[\"variant\"] in s4:\n",
    "        dataframe.at[dataframe[dataframe['variant'] == row[\"variant\"]].index[0], \"bcftools\"] = 1\n",
    "        dataframe.at[dataframe[dataframe['variant'] == row[\"variant\"]].index[0], \"freebayes\"] = 1\n",
    "        dataframe.at[dataframe[dataframe['variant'] == row[\"variant\"]].index[0], \"platypus\"] = 1\n",
    "        dataframe.at[dataframe[dataframe['variant'] == row[\"variant\"]].index[0], \"mutect2\"] = 1\n",
    "        dataframe.at[dataframe[dataframe['variant'] == row[\"variant\"]].index[0], \"octopus\"] = 1\n",
    "    if row[\"variant\"] in s5:\n",
    "        dataframe.at[dataframe[dataframe['variant'] == row[\"variant\"]].index[0], \"bcftools\"] = 1\n",
    "        dataframe.at[dataframe[dataframe['variant'] == row[\"variant\"]].index[0], \"freebayes\"] = 1\n",
    "        dataframe.at[dataframe[dataframe['variant'] == row[\"variant\"]].index[0], \"platypus\"] = 1\n",
    "        dataframe.at[dataframe[dataframe['variant'] == row[\"variant\"]].index[0], \"mutect2\"] = 1\n",
    "        dataframe.at[dataframe[dataframe['variant'] == row[\"variant\"]].index[0], \"octopus\"] = 1\n",
    "        dataframe.at[dataframe[dataframe['variant'] == row[\"variant\"]].index[0], \"lofreq\"] = 1\n",
    "        "
   ]
  },
  {
   "cell_type": "code",
   "execution_count": null,
   "metadata": {},
   "outputs": [
    {
     "name": "stdout",
     "output_type": "stream",
     "text": [
      "21485 26992\n"
     ]
    }
   ],
   "source": [
    "print (len (set(bcf_var_ids)), len(bcf_var_ids))"
   ]
  },
  {
   "cell_type": "code",
   "execution_count": null,
   "metadata": {},
   "outputs": [],
   "source": [
    "#freebayes\n",
    "s1 = set(fbayes_var_ids).intersection(set(bcf_var_ids))\n",
    "s2 = set(fbayes_var_ids).intersection(set(bcf_var_ids), set (platypus_var_ids))\n",
    "s3 = set(fbayes_var_ids).intersection(set(bcf_var_ids), set (platypus_var_ids), set (mut2_var_ids))\n",
    "s4 = set(fbayes_var_ids).intersection(set(bcf_var_ids), set (platypus_var_ids), set (mut2_var_ids), set (oct_var_ids))\n",
    "s5 = set(fbayes_var_ids).intersection(set(bcf_var_ids), set (platypus_var_ids), set (mut2_var_ids), set (oct_var_ids), set (lofreq_var_ids))"
   ]
  },
  {
   "cell_type": "code",
   "execution_count": null,
   "metadata": {},
   "outputs": [],
   "source": [
    "#freebayes\n",
    "for index, row in dataframe.iterrows(): \n",
    "    if row[\"variant\"] in fbayes_var_ids:\n",
    "        dataframe.at[dataframe[dataframe['variant'] == row[\"variant\"]].index[0], \"freebayes\"] = 1\n",
    "    if row[\"variant\"] in s1:\n",
    "        dataframe.at[dataframe[dataframe['variant'] == row[\"variant\"]].index[0], \"bcftools\"] = 1\n",
    "        dataframe.at[dataframe[dataframe['variant'] == row[\"variant\"]].index[0], \"freebayes\"] = 1\n",
    "    if row[\"variant\"] in s2:\n",
    "        dataframe.at[dataframe[dataframe['variant'] == row[\"variant\"]].index[0], \"bcftools\"] = 1\n",
    "        dataframe.at[dataframe[dataframe['variant'] == row[\"variant\"]].index[0], \"freebayes\"] = 1\n",
    "        dataframe.at[dataframe[dataframe['variant'] == row[\"variant\"]].index[0], \"platypus\"] = 1\n",
    "    if row[\"variant\"] in s3:\n",
    "        dataframe.at[dataframe[dataframe['variant'] == row[\"variant\"]].index[0], \"bcftools\"] = 1\n",
    "        dataframe.at[dataframe[dataframe['variant'] == row[\"variant\"]].index[0], \"freebayes\"] = 1\n",
    "        dataframe.at[dataframe[dataframe['variant'] == row[\"variant\"]].index[0], \"platypus\"] = 1\n",
    "        dataframe.at[dataframe[dataframe['variant'] == row[\"variant\"]].index[0], \"mutect2\"] = 1\n",
    "    if row[\"variant\"] in s4:\n",
    "        dataframe.at[dataframe[dataframe['variant'] == row[\"variant\"]].index[0], \"bcftools\"] = 1\n",
    "        dataframe.at[dataframe[dataframe['variant'] == row[\"variant\"]].index[0], \"freebayes\"] = 1\n",
    "        dataframe.at[dataframe[dataframe['variant'] == row[\"variant\"]].index[0], \"platypus\"] = 1\n",
    "        dataframe.at[dataframe[dataframe['variant'] == row[\"variant\"]].index[0], \"mutect2\"] = 1\n",
    "        dataframe.at[dataframe[dataframe['variant'] == row[\"variant\"]].index[0], \"octopus\"] = 1\n",
    "    if row[\"variant\"] in s5:\n",
    "        dataframe.at[dataframe[dataframe['variant'] == row[\"variant\"]].index[0], \"bcftools\"] = 1\n",
    "        dataframe.at[dataframe[dataframe['variant'] == row[\"variant\"]].index[0], \"freebayes\"] = 1\n",
    "        dataframe.at[dataframe[dataframe['variant'] == row[\"variant\"]].index[0], \"platypus\"] = 1\n",
    "        dataframe.at[dataframe[dataframe['variant'] == row[\"variant\"]].index[0], \"mutect2\"] = 1\n",
    "        dataframe.at[dataframe[dataframe['variant'] == row[\"variant\"]].index[0], \"octopus\"] = 1\n",
    "        dataframe.at[dataframe[dataframe['variant'] == row[\"variant\"]].index[0], \"lofreq\"] = 1\n",
    "        "
   ]
  },
  {
   "cell_type": "code",
   "execution_count": null,
   "metadata": {},
   "outputs": [],
   "source": [
    "#mutect2\n",
    "s1 = set(mut2_var_ids).intersection(set(bcf_var_ids))\n",
    "s2 = set(mut2_var_ids).intersection(set(bcf_var_ids), set (platypus_var_ids))\n",
    "s3 = set(mut2_var_ids).intersection(set(bcf_var_ids), set (platypus_var_ids), set (fbayes_var_ids))\n",
    "s4 = set(mut2_var_ids).intersection(set(bcf_var_ids), set (platypus_var_ids), set (fbayes_var_ids), set (oct_var_ids))\n",
    "s5 = set(mut2_var_ids).intersection(set(bcf_var_ids), set (platypus_var_ids), set (fbayes_var_ids), set (oct_var_ids), set (lofreq_var_ids))"
   ]
  },
  {
   "cell_type": "code",
   "execution_count": null,
   "metadata": {},
   "outputs": [],
   "source": [
    "#mutect2\n",
    "for index, row in dataframe.iterrows(): \n",
    "    if row[\"variant\"] in mut2_var_ids:\n",
    "        dataframe.at[dataframe[dataframe['variant'] == row[\"variant\"]].index[0], \"mutect2\"] = 1\n",
    "    if row[\"variant\"] in s1:\n",
    "        dataframe.at[dataframe[dataframe['variant'] == row[\"variant\"]].index[0], \"bcftools\"] = 1\n",
    "        dataframe.at[dataframe[dataframe['variant'] == row[\"variant\"]].index[0], \"mutect2\"] = 1\n",
    "    if row[\"variant\"] in s2:\n",
    "        dataframe.at[dataframe[dataframe['variant'] == row[\"variant\"]].index[0], \"bcftools\"] = 1\n",
    "        dataframe.at[dataframe[dataframe['variant'] == row[\"variant\"]].index[0], \"mutect2\"] = 1\n",
    "        dataframe.at[dataframe[dataframe['variant'] == row[\"variant\"]].index[0], \"platypus\"] = 1\n",
    "    if row[\"variant\"] in s3:\n",
    "        dataframe.at[dataframe[dataframe['variant'] == row[\"variant\"]].index[0], \"bcftools\"] = 1\n",
    "        dataframe.at[dataframe[dataframe['variant'] == row[\"variant\"]].index[0], \"freebayes\"] = 1\n",
    "        dataframe.at[dataframe[dataframe['variant'] == row[\"variant\"]].index[0], \"platypus\"] = 1\n",
    "        dataframe.at[dataframe[dataframe['variant'] == row[\"variant\"]].index[0], \"mutect2\"] = 1\n",
    "    if row[\"variant\"] in s4:\n",
    "        dataframe.at[dataframe[dataframe['variant'] == row[\"variant\"]].index[0], \"bcftools\"] = 1\n",
    "        dataframe.at[dataframe[dataframe['variant'] == row[\"variant\"]].index[0], \"freebayes\"] = 1\n",
    "        dataframe.at[dataframe[dataframe['variant'] == row[\"variant\"]].index[0], \"platypus\"] = 1\n",
    "        dataframe.at[dataframe[dataframe['variant'] == row[\"variant\"]].index[0], \"mutect2\"] = 1\n",
    "        dataframe.at[dataframe[dataframe['variant'] == row[\"variant\"]].index[0], \"octopus\"] = 1\n",
    "    if row[\"variant\"] in s5:\n",
    "        dataframe.at[dataframe[dataframe['variant'] == row[\"variant\"]].index[0], \"bcftools\"] = 1\n",
    "        dataframe.at[dataframe[dataframe['variant'] == row[\"variant\"]].index[0], \"freebayes\"] = 1\n",
    "        dataframe.at[dataframe[dataframe['variant'] == row[\"variant\"]].index[0], \"platypus\"] = 1\n",
    "        dataframe.at[dataframe[dataframe['variant'] == row[\"variant\"]].index[0], \"mutect2\"] = 1\n",
    "        dataframe.at[dataframe[dataframe['variant'] == row[\"variant\"]].index[0], \"octopus\"] = 1\n",
    "        dataframe.at[dataframe[dataframe['variant'] == row[\"variant\"]].index[0], \"lofreq\"] = 1"
   ]
  },
  {
   "cell_type": "code",
   "execution_count": 22,
   "metadata": {},
   "outputs": [],
   "source": [
    "#lofreq\n",
    "s1 = set(lofreq_var_ids).intersection(set(bcf_var_ids))\n",
    "s2 = set(lofreq_var_ids).intersection(set(bcf_var_ids), set (platypus_var_ids))\n",
    "s3 = set(lofreq_var_ids).intersection(set(bcf_var_ids), set (platypus_var_ids), set (fbayes_var_ids))\n",
    "s4 = set(lofreq_var_ids).intersection(set(bcf_var_ids), set (platypus_var_ids), set (fbayes_var_ids), set (oct_var_ids))\n",
    "s5 = set(lofreq_var_ids).intersection(set(bcf_var_ids), set (platypus_var_ids), set (fbayes_var_ids), set (oct_var_ids), set (mut2_var_ids))"
   ]
  },
  {
   "cell_type": "code",
   "execution_count": 23,
   "metadata": {},
   "outputs": [],
   "source": [
    "#lofreq\n",
    "for index, row in dataframe.iterrows(): \n",
    "    if row[\"variant\"] in lofreq_var_ids:\n",
    "        dataframe.at[dataframe[dataframe['variant'] == row[\"variant\"]].index[0], \"lofreq\"] = 1\n",
    "    if row[\"variant\"] in s1:\n",
    "        dataframe.at[dataframe[dataframe['variant'] == row[\"variant\"]].index[0], \"bcftools\"] = 1\n",
    "        dataframe.at[dataframe[dataframe['variant'] == row[\"variant\"]].index[0], \"lofreq\"] = 1\n",
    "    if row[\"variant\"] in s2:\n",
    "        dataframe.at[dataframe[dataframe['variant'] == row[\"variant\"]].index[0], \"bcftools\"] = 1\n",
    "        dataframe.at[dataframe[dataframe['variant'] == row[\"variant\"]].index[0], \"lofreq\"] = 1\n",
    "        dataframe.at[dataframe[dataframe['variant'] == row[\"variant\"]].index[0], \"platypus\"] = 1\n",
    "    if row[\"variant\"] in s3:\n",
    "        dataframe.at[dataframe[dataframe['variant'] == row[\"variant\"]].index[0], \"bcftools\"] = 1\n",
    "        dataframe.at[dataframe[dataframe['variant'] == row[\"variant\"]].index[0], \"freebayes\"] = 1\n",
    "        dataframe.at[dataframe[dataframe['variant'] == row[\"variant\"]].index[0], \"platypus\"] = 1\n",
    "        dataframe.at[dataframe[dataframe['variant'] == row[\"variant\"]].index[0], \"lofreq\"] = 1\n",
    "    if row[\"variant\"] in s4:\n",
    "        dataframe.at[dataframe[dataframe['variant'] == row[\"variant\"]].index[0], \"bcftools\"] = 1\n",
    "        dataframe.at[dataframe[dataframe['variant'] == row[\"variant\"]].index[0], \"freebayes\"] = 1\n",
    "        dataframe.at[dataframe[dataframe['variant'] == row[\"variant\"]].index[0], \"platypus\"] = 1\n",
    "        dataframe.at[dataframe[dataframe['variant'] == row[\"variant\"]].index[0], \"lofreq\"] = 1\n",
    "        dataframe.at[dataframe[dataframe['variant'] == row[\"variant\"]].index[0], \"octopus\"] = 1\n",
    "    if row[\"variant\"] in s5:\n",
    "        dataframe.at[dataframe[dataframe['variant'] == row[\"variant\"]].index[0], \"bcftools\"] = 1\n",
    "        dataframe.at[dataframe[dataframe['variant'] == row[\"variant\"]].index[0], \"freebayes\"] = 1\n",
    "        dataframe.at[dataframe[dataframe['variant'] == row[\"variant\"]].index[0], \"platypus\"] = 1\n",
    "        dataframe.at[dataframe[dataframe['variant'] == row[\"variant\"]].index[0], \"mutect2\"] = 1\n",
    "        dataframe.at[dataframe[dataframe['variant'] == row[\"variant\"]].index[0], \"octopus\"] = 1\n",
    "        dataframe.at[dataframe[dataframe['variant'] == row[\"variant\"]].index[0], \"lofreq\"] = 1"
   ]
  },
  {
   "cell_type": "code",
   "execution_count": null,
   "metadata": {},
   "outputs": [],
   "source": [
    "#octopus\n",
    "s1 = set(oct_var_ids).intersection(set(bcf_var_ids))\n",
    "s2 = set(oct_var_ids).intersection(set(bcf_var_ids), set (platypus_var_ids))\n",
    "s3 = set(oct_var_ids).intersection(set(bcf_var_ids), set (platypus_var_ids), set (fbayes_var_ids))\n",
    "s4 = set(oct_var_ids).intersection(set(bcf_var_ids), set (platypus_var_ids), set (fbayes_var_ids), set (lofreq_var_ids))\n",
    "s5 = set(oct_var_ids).intersection(set(bcf_var_ids), set (platypus_var_ids), set (fbayes_var_ids), set (lofreq_var_ids), set (mut2_var_ids))"
   ]
  },
  {
   "cell_type": "code",
   "execution_count": null,
   "metadata": {},
   "outputs": [],
   "source": [
    "#octopus\n",
    "for index, row in dataframe.iterrows(): \n",
    "    if row[\"variant\"] in oct_var_ids:\n",
    "        dataframe.at[dataframe[dataframe['variant'] == row[\"variant\"]].index[0], \"octopus\"] = 1\n",
    "    if row[\"variant\"] in s1:\n",
    "        dataframe.at[dataframe[dataframe['variant'] == row[\"variant\"]].index[0], \"bcftools\"] = 1\n",
    "        dataframe.at[dataframe[dataframe['variant'] == row[\"variant\"]].index[0], \"octopus\"] = 1\n",
    "    if row[\"variant\"] in s2:\n",
    "        dataframe.at[dataframe[dataframe['variant'] == row[\"variant\"]].index[0], \"bcftools\"] = 1\n",
    "        dataframe.at[dataframe[dataframe['variant'] == row[\"variant\"]].index[0], \"octopus\"] = 1\n",
    "        dataframe.at[dataframe[dataframe['variant'] == row[\"variant\"]].index[0], \"platypus\"] = 1\n",
    "    if row[\"variant\"] in s3:\n",
    "        dataframe.at[dataframe[dataframe['variant'] == row[\"variant\"]].index[0], \"bcftools\"] = 1\n",
    "        dataframe.at[dataframe[dataframe['variant'] == row[\"variant\"]].index[0], \"freebayes\"] = 1\n",
    "        dataframe.at[dataframe[dataframe['variant'] == row[\"variant\"]].index[0], \"platypus\"] = 1\n",
    "        dataframe.at[dataframe[dataframe['variant'] == row[\"variant\"]].index[0], \"octopus\"] = 1\n",
    "    if row[\"variant\"] in s4:\n",
    "        dataframe.at[dataframe[dataframe['variant'] == row[\"variant\"]].index[0], \"bcftools\"] = 1\n",
    "        dataframe.at[dataframe[dataframe['variant'] == row[\"variant\"]].index[0], \"freebayes\"] = 1\n",
    "        dataframe.at[dataframe[dataframe['variant'] == row[\"variant\"]].index[0], \"platypus\"] = 1\n",
    "        dataframe.at[dataframe[dataframe['variant'] == row[\"variant\"]].index[0], \"lofreq\"] = 1\n",
    "        dataframe.at[dataframe[dataframe['variant'] == row[\"variant\"]].index[0], \"octopus\"] = 1\n",
    "    if row[\"variant\"] in s5:\n",
    "        dataframe.at[dataframe[dataframe['variant'] == row[\"variant\"]].index[0], \"bcftools\"] = 1\n",
    "        dataframe.at[dataframe[dataframe['variant'] == row[\"variant\"]].index[0], \"freebayes\"] = 1\n",
    "        dataframe.at[dataframe[dataframe['variant'] == row[\"variant\"]].index[0], \"platypus\"] = 1\n",
    "        dataframe.at[dataframe[dataframe['variant'] == row[\"variant\"]].index[0], \"mutect2\"] = 1\n",
    "        dataframe.at[dataframe[dataframe['variant'] == row[\"variant\"]].index[0], \"octopus\"] = 1\n",
    "        dataframe.at[dataframe[dataframe['variant'] == row[\"variant\"]].index[0], \"lofreq\"] = 1"
   ]
  },
  {
   "cell_type": "code",
   "execution_count": null,
   "metadata": {},
   "outputs": [],
   "source": [
    "#platypus..\n",
    "s1 = set(platypus_var_ids).intersection(set(bcf_var_ids))\n",
    "s2 = set(platypus_var_ids).intersection(set(bcf_var_ids), set (oct_var_ids))\n",
    "s3 = set(platypus_var_ids).intersection(set(bcf_var_ids), set (oct_var_ids), set (fbayes_var_ids))\n",
    "s4 = set(platypus_var_ids).intersection(set(bcf_var_ids), set (oct_var_ids), set (fbayes_var_ids), set (lofreq_var_ids))\n",
    "s5 = set(platypus_var_ids).intersection(set(bcf_var_ids), set (oct_var_ids), set (fbayes_var_ids), set (lofreq_var_ids), set (mut2_var_ids))"
   ]
  },
  {
   "cell_type": "code",
   "execution_count": null,
   "metadata": {},
   "outputs": [],
   "source": [
    "#platypus..\n",
    "for index, row in dataframe.iterrows(): \n",
    "    if row[\"variant\"] in platypus_var_ids:\n",
    "        dataframe.at[dataframe[dataframe['variant'] == row[\"variant\"]].index[0], \"platypus\"] = 1\n",
    "    if row[\"variant\"] in s1:\n",
    "        dataframe.at[dataframe[dataframe['variant'] == row[\"variant\"]].index[0], \"bcftools\"] = 1\n",
    "        dataframe.at[dataframe[dataframe['variant'] == row[\"variant\"]].index[0], \"platypus\"] = 1\n",
    "    if row[\"variant\"] in s2:\n",
    "        dataframe.at[dataframe[dataframe['variant'] == row[\"variant\"]].index[0], \"bcftools\"] = 1\n",
    "        dataframe.at[dataframe[dataframe['variant'] == row[\"variant\"]].index[0], \"octopus\"] = 1\n",
    "        dataframe.at[dataframe[dataframe['variant'] == row[\"variant\"]].index[0], \"platypus\"] = 1\n",
    "    if row[\"variant\"] in s3:\n",
    "        dataframe.at[dataframe[dataframe['variant'] == row[\"variant\"]].index[0], \"bcftools\"] = 1\n",
    "        dataframe.at[dataframe[dataframe['variant'] == row[\"variant\"]].index[0], \"freebayes\"] = 1\n",
    "        dataframe.at[dataframe[dataframe['variant'] == row[\"variant\"]].index[0], \"platypus\"] = 1\n",
    "        dataframe.at[dataframe[dataframe['variant'] == row[\"variant\"]].index[0], \"octopus\"] = 1\n",
    "    if row[\"variant\"] in s4:\n",
    "        dataframe.at[dataframe[dataframe['variant'] == row[\"variant\"]].index[0], \"bcftools\"] = 1\n",
    "        dataframe.at[dataframe[dataframe['variant'] == row[\"variant\"]].index[0], \"freebayes\"] = 1\n",
    "        dataframe.at[dataframe[dataframe['variant'] == row[\"variant\"]].index[0], \"platypus\"] = 1\n",
    "        dataframe.at[dataframe[dataframe['variant'] == row[\"variant\"]].index[0], \"lofreq\"] = 1\n",
    "        dataframe.at[dataframe[dataframe['variant'] == row[\"variant\"]].index[0], \"octopus\"] = 1\n",
    "    if row[\"variant\"] in s5:\n",
    "        dataframe.at[dataframe[dataframe['variant'] == row[\"variant\"]].index[0], \"bcftools\"] = 1\n",
    "        dataframe.at[dataframe[dataframe['variant'] == row[\"variant\"]].index[0], \"freebayes\"] = 1\n",
    "        dataframe.at[dataframe[dataframe['variant'] == row[\"variant\"]].index[0], \"platypus\"] = 1\n",
    "        dataframe.at[dataframe[dataframe['variant'] == row[\"variant\"]].index[0], \"mutect2\"] = 1\n",
    "        dataframe.at[dataframe[dataframe['variant'] == row[\"variant\"]].index[0], \"octopus\"] = 1\n",
    "        dataframe.at[dataframe[dataframe['variant'] == row[\"variant\"]].index[0], \"lofreq\"] = 1"
   ]
  },
  {
   "cell_type": "code",
   "execution_count": null,
   "metadata": {},
   "outputs": [],
   "source": [
    "dataframe"
   ]
  },
  {
   "cell_type": "code",
   "execution_count": null,
   "metadata": {},
   "outputs": [],
   "source": [
    "from pathlib import Path  \n",
    "filepath = Path('/Users/rugaremaruzani/Library/CloudStorage/OneDrive-TheUniversityofLiverpool/GitHub/synthetic-read-duplication/complete.csv')  \n",
    "filepath.parent.mkdir(parents=True, exist_ok=True) \n",
    "dataframe.to_csv(filepath, index=False)"
   ]
  },
  {
   "cell_type": "code",
   "execution_count": null,
   "metadata": {},
   "outputs": [],
   "source": []
  },
  {
   "cell_type": "code",
   "execution_count": null,
   "metadata": {},
   "outputs": [],
   "source": []
  }
 ],
 "metadata": {
  "kernelspec": {
   "display_name": "Python 3.9.13 ('base')",
   "language": "python",
   "name": "python3"
  },
  "language_info": {
   "codemirror_mode": {
    "name": "ipython",
    "version": 3
   },
   "file_extension": ".py",
   "mimetype": "text/x-python",
   "name": "python",
   "nbconvert_exporter": "python",
   "pygments_lexer": "ipython3",
   "version": "3.9.13"
  },
  "orig_nbformat": 4,
  "vscode": {
   "interpreter": {
    "hash": "73342eafc13861cab8446a4158c901bd0af7b44c4409115c0bc199f0863c8dc4"
   }
  }
 },
 "nbformat": 4,
 "nbformat_minor": 2
}
